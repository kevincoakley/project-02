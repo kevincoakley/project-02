{
 "cells": [
  {
   "cell_type": "code",
   "execution_count": null,
   "metadata": {},
   "outputs": [],
   "source": [
    "import pandas as pd\n",
    "import scipy.stats\n",
    "import numpy as np\n",
    "import seaborn as sns\n",
    "import matplotlib.pyplot as plt"
   ]
  },
  {
   "cell_type": "code",
   "execution_count": null,
   "metadata": {},
   "outputs": [],
   "source": [
    "def calculate_cvar(dataset, alpha):\n",
    "    # alpha = 0.1 = 90% \n",
    "    # alpha = 0.05 = 95%\n",
    "    # alpha = 0.01 = 99%    \n",
    "\n",
    "    dataset.sort()\n",
    "    # Reverse the list\n",
    "    dataset = dataset[::-1]\n",
    "    var = np.quantile(dataset, alpha)\n",
    "    cvar = dataset[dataset >= var].mean().round(3)\n",
    "    return(cvar)"
   ]
  },
  {
   "cell_type": "code",
   "execution_count": null,
   "metadata": {},
   "outputs": [],
   "source": [
    "nlinear_df = pd.read_csv(\"../results/time_series/NLinear_ETTh1_96_0_100.csv\")\n",
    "tsmixer_df = pd.read_csv(\"../results/time_series/TSMixer_ETTh1_96_0_100.csv\")\n",
    "\n",
    "nlinear = nlinear_df['mae'].values\n",
    "tsmixer = tsmixer_df['mae'].values\n",
    "\n",
    "data = {\"NLinear\": nlinear, \"TSMixer\": tsmixer}"
   ]
  },
  {
   "cell_type": "code",
   "execution_count": null,
   "metadata": {},
   "outputs": [],
   "source": [
    "fig, ax = plt.subplots(figsize=(10, 5))\n",
    "\n",
    "sns.histplot(\n",
    "    data,\n",
    "    kde=True,\n",
    "    stat=\"proportion\",\n",
    "    kde_kws=dict(cut=3),\n",
    "    legend=True,\n",
    ")\n",
    "\n",
    "nlinear_cvar = calculate_cvar(nlinear, .95)\n",
    "tsmixer_cvar = calculate_cvar(tsmixer, .95)\n",
    "nlinear_mean = np.mean(nlinear).round(3)\n",
    "tsmixer_mean = np.mean(tsmixer).round(3)\n",
    "\n",
    "\n",
    "plt.axvline(nlinear_mean, color='blue', linestyle='solid', label=\"NLinear Mean: %s\" % nlinear_mean)\n",
    "plt.axvline(tsmixer_mean, color='orange', linestyle='solid', label=\"TSMixer Mean: %s\" % tsmixer_mean)\n",
    "\n",
    "plt.axvline(nlinear_cvar, color='blue', linestyle='dashed', label=\"NLinear CVaR: %s\" % nlinear_cvar)\n",
    "plt.axvline(tsmixer_cvar, color='orange', linestyle='dashed', label=\"TSMixer CVaR: %s\" % tsmixer_cvar)\n",
    "\n",
    "\n",
    "ax.set(ylabel='')\n",
    "ax.tick_params(left=False, bottom=True)\n",
    "ax.axes.get_yaxis().set_visible(False)\n",
    "\n",
    "plt.legend()\n",
    "\n",
    "ax.set_xlim(.375,.44)\n",
    "\n",
    "plt.show()"
   ]
  },
  {
   "cell_type": "code",
   "execution_count": null,
   "metadata": {},
   "outputs": [],
   "source": [
    "fig, ax = plt.subplots(figsize=(10, 5))\n",
    "\n",
    "# Generate the data \n",
    "np.random.seed(119)\n",
    "normal = np.random.normal(np.mean(nlinear), np.std(nlinear), 100)\n",
    "\n",
    "normal_data = {\"Normal\": normal, \"TSMixer\": tsmixer}\n",
    "\n",
    "sns.histplot(\n",
    "    normal_data,\n",
    "    kde=True,\n",
    "    stat=\"proportion\",\n",
    "    kde_kws=dict(cut=3),\n",
    "    legend=True,\n",
    ")\n",
    "\n",
    "normal_cvar = calculate_cvar(normal, .95)\n",
    "tsmixer_cvar = calculate_cvar(tsmixer, .95)\n",
    "normal_mean = np.mean(normal).round(3)\n",
    "tsmixer_mean = np.mean(tsmixer).round(3)\n",
    "\n",
    "\n",
    "plt.axvline(normal_mean, color='blue', linestyle='solid', label=\"Normal Mean: %s\" % normal_mean)\n",
    "plt.axvline(tsmixer_mean, color='orange', linestyle='solid', label=\"TSMixer Mean: %s\" % tsmixer_mean)\n",
    "\n",
    "plt.axvline(normal_cvar, color='blue', linestyle='dashed', label=\"Normal CVaR: %s\" % normal_cvar)\n",
    "plt.axvline(tsmixer_cvar, color='orange', linestyle='dashed', label=\"TSMixer CVaR: %s\" % tsmixer_cvar)\n",
    "\n",
    "ax.set(ylabel='')\n",
    "ax.tick_params(left=False, bottom=True)\n",
    "ax.axes.get_yaxis().set_visible(False)\n",
    "\n",
    "plt.legend()\n",
    "\n",
    "ax.set_xlim(.375,.44)\n",
    "\n",
    "plt.show()"
   ]
  }
 ],
 "metadata": {
  "kernelspec": {
   "display_name": "jupyter",
   "language": "python",
   "name": "python3"
  },
  "language_info": {
   "codemirror_mode": {
    "name": "ipython",
    "version": 3
   },
   "file_extension": ".py",
   "mimetype": "text/x-python",
   "name": "python",
   "nbconvert_exporter": "python",
   "pygments_lexer": "ipython3",
   "version": "3.11.5"
  }
 },
 "nbformat": 4,
 "nbformat_minor": 2
}

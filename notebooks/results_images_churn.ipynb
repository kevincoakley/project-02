{
 "cells": [
  {
   "cell_type": "code",
   "execution_count": null,
   "metadata": {},
   "outputs": [],
   "source": [
    "import os\n",
    "import numpy as np\n",
    "import pandas as pd"
   ]
  },
  {
   "cell_type": "code",
   "execution_count": null,
   "metadata": {},
   "outputs": [],
   "source": [
    "# set the path to the results\n",
    "predictions_path = \"../results/ex2_vit_uc_merced/\""
   ]
  },
  {
   "cell_type": "code",
   "execution_count": null,
   "metadata": {},
   "outputs": [],
   "source": [
    "def get_predictions_from_csv(predictions_path):\n",
    "    # Read the predictions csv file\n",
    "    predictions = pd.read_csv(predictions_path)\n",
    "\n",
    "    # Read the predictions csv file and get the true and predicted values as lists\n",
    "    true_value = predictions[\"true_value\"].astype(int).to_list()\n",
    "    predicted_value = predictions[\"predicted_value\"].astype(int).to_list()\n",
    "\n",
    "    # Return the true and predicted values as a list of tuples:\n",
    "    # [(true_value, predicted_value), (true_value, predicted_value), ...]\n",
    "    return list(zip(true_value, predicted_value))"
   ]
  },
  {
   "cell_type": "code",
   "execution_count": null,
   "metadata": {},
   "outputs": [],
   "source": [
    "def get_predictions(path):\n",
    "    #\n",
    "    # Get the list of csv files in the path\n",
    "    #\n",
    "    list_of_files = []\n",
    "\n",
    "    for root, dirs, files in os.walk(path, followlinks=True):\n",
    "        for file in files:\n",
    "            # Allow results to be ignored by including \"ignore\" in the directory or file name\n",
    "            if \"ignore\" not in root:\n",
    "                if file.endswith(\".csv\"):\n",
    "                    list_of_files.append(os.path.join(root, file).replace(path, \"\"))\n",
    "\n",
    "    predictions = {}\n",
    "\n",
    "    # Read the csv files and append the results to a list\n",
    "    for full_file_name in sorted(list_of_files):\n",
    "        short_file_name = full_file_name.split(\"/\")[1].split(\".\")[0]\n",
    "\n",
    "        # If the run was deterministic or fixed seed, the run name will be the seed value\n",
    "        environment = short_file_name.split(\"_seed_\")[0]\n",
    "        run_name = short_file_name.split(\"_seed_\")[1]\n",
    "\n",
    "        if environment not in predictions:\n",
    "            predictions[environment] = {}\n",
    "\n",
    "        run_predictions = get_predictions_from_csv(path + full_file_name)\n",
    "\n",
    "        predictions[environment][run_name] = run_predictions\n",
    "\n",
    "    return predictions\n",
    "\n",
    "\n",
    "predictions = get_predictions(predictions_path)"
   ]
  },
  {
   "cell_type": "code",
   "execution_count": null,
   "metadata": {},
   "outputs": [],
   "source": [
    "def zhuang_calculate_churn(x_predictions, y_predictions):\n",
    "\n",
    "    # Unzip the predictions into two lists: [0] true value, [1] predicted value\n",
    "    x_predictions_unziped = list(zip(*x_predictions))\n",
    "    y_predictions_unziped = list(zip(*y_predictions))\n",
    "\n",
    "    x = np.array(x_predictions_unziped[1])\n",
    "    y = np.array(y_predictions_unziped[1])\n",
    "\n",
    "    return np.sum(x == y) / len(x)"
   ]
  },
  {
   "cell_type": "code",
   "execution_count": null,
   "metadata": {},
   "outputs": [],
   "source": [
    "num_seeds = 100\n",
    "\n",
    "zhuang_churn_results = {}\n",
    "\n",
    "for environment in predictions.keys():\n",
    "\n",
    "    churn = []\n",
    "\n",
    "    # Get all of the seeds from the environment as a list then only selct the first num_seeds\n",
    "    x_seeds = list(predictions[environment].keys())[:num_seeds]\n",
    "    y_seeds = list(predictions[environment].keys())[:num_seeds]\n",
    "\n",
    "    # Loop through the seeds and calculate the churn\n",
    "    for x_seed in x_seeds:\n",
    "        \n",
    "        for y_seed in y_seeds:\n",
    "    \n",
    "            # don't calculate churn for the same seed\n",
    "            if x_seed != y_seed:\n",
    "                churn.append(zhuang_calculate_churn(predictions[environment][x_seed], \n",
    "                                             predictions[environment][y_seed]))\n",
    "\n",
    "        # Remove the seed from the y_seeds list so it isn't compared again\n",
    "        y_seeds.remove(x_seed)\n",
    "\n",
    "    zhuang_churn_results[environment] = 1 - sum(churn) / len(churn)"
   ]
  },
  {
   "cell_type": "code",
   "execution_count": null,
   "metadata": {},
   "outputs": [],
   "source": [
    "# Convert the zhuang_churn_results dictionary to a pandas DataFrame\n",
    "df_zhuang_churn = pd.DataFrame.from_dict(zhuang_churn_results, orient='index', columns=['Churn Rate'])\n",
    "\n",
    "# Reset the index to make 'environment' a column\n",
    "df_zhuang_churn.reset_index(inplace=True)\n",
    "df_zhuang_churn.rename(columns={'index': 'Environment'}, inplace=True)\n",
    "\n",
    "ax = df_zhuang_churn.plot(x=\"Environment\", kind=\"bar\", rot=0, figsize=(10, 5))\n",
    "ax.get_legend().remove()\n",
    "ax.set_title(\"Zhuang Label Churn - %s Runs\" % num_seeds)\n",
    "ax.set_xlabel(\"Label Index\")\n",
    "ax.set_ylabel(\"Predictions\")\n",
    "ax.xaxis.set_tick_params(rotation=45)"
   ]
  },
  {
   "cell_type": "code",
   "execution_count": null,
   "metadata": {},
   "outputs": [],
   "source": [
    "df_zhuang_churn"
   ]
  },
  {
   "cell_type": "code",
   "execution_count": null,
   "metadata": {},
   "outputs": [],
   "source": [
    "def calculate_zhuang_churn_by_label(x_predictions, y_predictions):\n",
    "    num_predictions = len(x_predictions)\n",
    "\n",
    "    x_predictions_by_label = {}\n",
    "    y_predictions_by_label = {}\n",
    "\n",
    "    # Loop through all of the predictions\n",
    "    for i in range(num_predictions):\n",
    "        # Get the true value for the prediction at index i\n",
    "        true_value = x_predictions[i][0]\n",
    "\n",
    "        #\n",
    "        # Create the label in the dict if it doesn't already exist for x and y\n",
    "        #\n",
    "        if str(true_value) not in x_predictions_by_label:\n",
    "            x_predictions_by_label[str(true_value)] = []\n",
    "\n",
    "        if str(true_value) not in y_predictions_by_label:\n",
    "            y_predictions_by_label[str(true_value)] = []\n",
    "\n",
    "        # Added the x and y predictions to the label\n",
    "        x_predictions_by_label[str(true_value)].append(x_predictions[i][1])\n",
    "        y_predictions_by_label[str(true_value)].append(y_predictions[i][1])\n",
    "\n",
    "    churn_by_label = {}\n",
    "\n",
    "    #\n",
    "    # Loop through all of the labels and calculate the churn\n",
    "    #\n",
    "    for label in x_predictions_by_label.keys():\n",
    "        x = np.array(x_predictions_by_label[label])\n",
    "        y = np.array(y_predictions_by_label[label])\n",
    "\n",
    "        churn_by_label[label] = 1 - (np.sum(x == y) / len(x))\n",
    "\n",
    "    return churn_by_label"
   ]
  },
  {
   "cell_type": "code",
   "execution_count": null,
   "metadata": {},
   "outputs": [],
   "source": [
    "labels = []\n",
    "\n",
    "for environment_list, run_list, in predictions.items():\n",
    "    for seed, prediction_list in run_list.items():\n",
    "        for individual_predictions in prediction_list:\n",
    "            if individual_predictions[0] not in labels:\n",
    "                labels.append(individual_predictions[0])"
   ]
  },
  {
   "cell_type": "code",
   "execution_count": null,
   "metadata": {},
   "outputs": [],
   "source": [
    "# Number of seeds used for the churn calculation\n",
    "num_seeds = 100\n",
    "\n",
    "# Create an empty dataframe \n",
    "df_zhuang_churn_by_label = pd.DataFrame()\n",
    "\n",
    "# Add the labels column to the dataframe\n",
    "df_zhuang_churn_by_label[\"labels\"] = labels\n",
    "\n",
    "# Loop through the environments and calculate the churn \n",
    "for environment in predictions:\n",
    "\n",
    "    churn = []\n",
    "\n",
    "    # Get all of the seeds from the environment as a list then only selct the first num_seeds\n",
    "    x_seeds = list(predictions[environment].keys())[:num_seeds]\n",
    "    y_seeds = list(predictions[environment].keys())[:num_seeds]\n",
    "\n",
    "    # Loop through the seeds and calculate the churn\n",
    "    for x_seed in x_seeds:\n",
    "\n",
    "        for y_seed in y_seeds:\n",
    "            \n",
    "            # don't calculate churn for the same seed\n",
    "            if x_seed != y_seed:\n",
    "                churn.append(calculate_zhuang_churn_by_label(predictions[environment][x_seed], \n",
    "                                             predictions[environment][y_seed]))\n",
    "\n",
    "        # Remove the seed from the y_seeds list so it isn't compared agai\n",
    "        y_seeds.remove(x_seed)\n",
    "\n",
    "    #\n",
    "    # Get the report_value from the churn_by_label dict \n",
    "    #\n",
    "    return_values = []\n",
    "\n",
    "    for i in range(len(labels)):\n",
    "\n",
    "        label_total = 0\n",
    "\n",
    "        for churn_value in churn:\n",
    "            label_total += churn_value[str(i)]\n",
    "\n",
    "        label_total = label_total / len(churn)\n",
    "\n",
    "        return_values.append(label_total)\n",
    "\n",
    "\n",
    "    df_zhuang_churn_by_label[environment] = return_values\n"
   ]
  },
  {
   "cell_type": "code",
   "execution_count": null,
   "metadata": {},
   "outputs": [],
   "source": [
    "ax = df_zhuang_churn_by_label.plot(x=\"labels\", kind=\"bar\", rot=0, figsize=(10, 5))\n",
    "ax.get_legend().set_loc(\"upper right\")\n",
    "ax.set_title(\"Zhuang Label Churn - %s Runs\" % num_seeds)\n",
    "ax.set_xlabel(\"Label Index\")\n",
    "ax.set_ylabel(\"Predictions\")\n",
    "\n",
    "#ax.set_ylim(0, .70 )"
   ]
  },
  {
   "cell_type": "code",
   "execution_count": null,
   "metadata": {},
   "outputs": [],
   "source": [
    "df_zhuang_churn_by_label"
   ]
  },
  {
   "cell_type": "code",
   "execution_count": null,
   "metadata": {},
   "outputs": [],
   "source": [
    "for enviroment in df_zhuang_churn_by_label.keys():\n",
    "    if enviroment == \"labels\":\n",
    "        continue\n",
    "    mean = df_zhuang_churn_by_label[enviroment].mean()\n",
    "    std = df_zhuang_churn_by_label[enviroment].std()\n",
    "    mean = round(mean, 4)\n",
    "    std = round(std, 4)\n",
    "    print(f\"Environment: {enviroment} - Mean: {mean} - Std: {std}\")"
   ]
  }
 ],
 "metadata": {
  "kernelspec": {
   "display_name": "jupyter",
   "language": "python",
   "name": "python3"
  },
  "language_info": {
   "codemirror_mode": {
    "name": "ipython",
    "version": 3
   },
   "file_extension": ".py",
   "mimetype": "text/x-python",
   "name": "python",
   "nbconvert_exporter": "python",
   "pygments_lexer": "ipython3",
   "version": "3.11.5"
  }
 },
 "nbformat": 4,
 "nbformat_minor": 2
}
